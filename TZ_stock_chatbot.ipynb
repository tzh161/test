{
 "cells": [
  {
   "cell_type": "code",
   "execution_count": 1,
   "metadata": {},
   "outputs": [],
   "source": [
    "from iexfinance import Stock\n",
    "from iexfinance import get_available_symbols"
   ]
  },
  {
   "cell_type": "code",
   "execution_count": 2,
   "metadata": {},
   "outputs": [
    {
     "name": "stdout",
     "output_type": "stream",
     "text": [
      "Fitting 2 folds for each of 6 candidates, totalling 12 fits\n"
     ]
    },
    {
     "name": "stderr",
     "output_type": "stream",
     "text": [
      "[Parallel(n_jobs=1)]: Done  12 out of  12 | elapsed:    0.1s finished\n"
     ]
    }
   ],
   "source": [
    "from rasa_nlu.training_data import load_data\n",
    "from rasa_nlu.config import RasaNLUModelConfig\n",
    "from rasa_nlu.model import Trainer\n",
    "from rasa_nlu import config\n",
    "\n",
    "#loading the .yml document\n",
    "trainer = Trainer(config.load(\"/Users/hejianping/Desktop/rasa_nlu.train/config_spacy.yml\"))\n",
    "\n",
    "# loading the training data\n",
    "training_data = load_data('/Users/hejianping/Desktop/rasa_nlu.train/demo-rasa.json')\n",
    "\n",
    "# starting training \n",
    "interpreter = trainer.train(training_data)"
   ]
  },
  {
   "cell_type": "code",
   "execution_count": 3,
   "metadata": {},
   "outputs": [],
   "source": [
    "# constant assignment\n",
    "company_dict = {'apple': 'AAPL', 'tesla': 'TSLA', 'microsoft': 'MSFT'}\n",
    "answer=\"123\"\n",
    "\n",
    "INIT = 0\n",
    "CLP = 1\n",
    "DENY = 2\n",
    "VOLUME = 3\n",
    "VALUE = 4"
   ]
  },
  {
   "cell_type": "code",
   "execution_count": 4,
   "metadata": {},
   "outputs": [],
   "source": [
    "# setting up the state machine\n",
    "policy = {\n",
    "    (INIT, 'close'): (CLP, 'Ok. I am loading...'),\n",
    "    (INIT, 'none'): (INIT, 'Hi body! What can I do for you.'),\n",
    "    (CLP, 'deny'): (CLP, 'As you wish. Wait please.'),\n",
    "    (INIT, 'volume'): (VOLUME, 'Alright, I am loading now...'),\n",
    "    (VOLUME, 'deny'): (VOLUME, 'Ok. I am dealing with it...'),\n",
    "    (INIT, 'value'): (VALUE, 'Wait please...'),\n",
    "    (VALUE, 'deny'): (VALUE, 'Ok. It is not hard...'),\n",
    "}"
   ]
  },
  {
   "cell_type": "code",
   "execution_count": 5,
   "metadata": {},
   "outputs": [],
   "source": [
    "# sending message to the charting bot\n",
    "def send_message(message, policy, state, params, intent_dict):\n",
    "    print(\"USER : {}\".format(message))\n",
    "    new_state, response, params = respond(message, policy, state, params, intent_dict)\n",
    "    return new_state, params\n",
    "\n",
    "# producing reply according to the message\n",
    "def respond(message, policy, state, params, intent_dict):\n",
    "    (new_state, response) = policy[(state, interpret(message))]\n",
    "    print(\"BOT : {}\".format(response))\n",
    "    params = analyse(message, params, intent_dict)\n",
    "    \n",
    "    # reset the state machine after a denial is processed\n",
    "    empty = {}\n",
    "    if new_state == DENY:\n",
    "        if params == empty:\n",
    "            new_state = INIT\n",
    "        else:\n",
    "            new_state = state\n",
    "    return new_state, response, params"
   ]
  },
  {
   "cell_type": "code",
   "execution_count": 6,
   "metadata": {},
   "outputs": [],
   "source": [
    "# intent recognition\n",
    "def interpret(message):\n",
    "    intent = interpreter.parse(message)['intent']['name']\n",
    "    words = [str(i) for i in message.split()]\n",
    "    for i in range(len(words)):\n",
    "        if words[i] == 'no' or words[i] == 'not':\n",
    "            intent = 'deny'\n",
    "            break\n",
    "        else:\n",
    "            continue\n",
    "    if intent == 'close':\n",
    "        return 'close'\n",
    "    elif intent == 'time':\n",
    "        return 'time' \n",
    "    elif intent == 'volume':\n",
    "        return 'volume'\n",
    "    elif intent == 'value':\n",
    "        return 'value'\n",
    "    elif intent == 'deny':\n",
    "        return 'deny'   \n",
    "    else:\n",
    "        return 'none'"
   ]
  },
  {
   "cell_type": "code",
   "execution_count": 7,
   "metadata": {
    "scrolled": true
   },
   "outputs": [],
   "source": [
    "# intent extraction\n",
    "def analyse(message, params, intent_dict):\n",
    "    entities = interpreter.parse(message)['entities']\n",
    "    intent = interpreter.parse(message)['intent']['name']\n",
    "    words = [str(i) for i in message.split()]\n",
    "    for i in range(len(words)):\n",
    "        if words[i] == 'no' or words[i] == 'not':\n",
    "            intent = 'deny'\n",
    "            break\n",
    "        else:\n",
    "            continue\n",
    "\n",
    "    # enquiry about close price?\n",
    "    if intent == 'close':\n",
    "        for ent in entities:\n",
    "            params[str(ent['entity']) + '_' + str(ent['value'])] = str(ent['value'])\n",
    "        for company in params:\n",
    "            stock_search = Stock(company_dict[str(params[company])])\n",
    "            print(\"BOT : The close price of {0} is {1}\".format(params[company], stock_search.get_close()))\n",
    "        intent_dict.append(intent)\n",
    "        \n",
    "    # enquiry about trading volume？\n",
    "    elif intent == 'volume':\n",
    "        for ent in entities:\n",
    "            params[str(ent['entity']) + '_' + str(ent['value'])] = str(ent['value'])\n",
    "        for company in params:\n",
    "            stock_search = Stock(company_dict[str(params[company])])\n",
    "            print(\"BOT : The volume of {0} is {1}\".format(params[company], stock_search.get_volume()))\n",
    "        intent_dict.append(intent)\n",
    "        \n",
    "    # enquiry about market value?\n",
    "    elif intent == 'value':\n",
    "        for ent in entities:\n",
    "            params[str(ent['entity']) + '_' + str(ent['value'])] = str(ent['value'])\n",
    "        for company in params:\n",
    "            stock_search = Stock(company_dict[str(params[company])])\n",
    "            print(\"BOT : The value of {0} is {1}\".format(params[company], stock_search.get_financials()[0]['totalAssets']))\n",
    "        intent_dict.append(intent)\n",
    "        \n",
    "    # any denial？\n",
    "    elif intent == 'deny':\n",
    "        flag = False\n",
    "        for i in range(len(words)):\n",
    "            words[i] = words[i].lower()\n",
    "            if words[i] == 'no' or words[i] == 'not':\n",
    "                flag = True\n",
    "            key = 'company_' + str(words[i])\n",
    "            if key in params and flag:\n",
    "                params.pop(key)\n",
    "                \n",
    "        # reply to the denial\n",
    "        if intent_dict[len(intent_dict)-1] == 'close':\n",
    "            for company in params:\n",
    "                stock_search = Stock(company_dict[str(params[company])])\n",
    "                print(\"BOT : The close price of {0} is {1}\".format(params[company], stock_search.get_close()))\n",
    "        elif intent_dict[len(intent_dict)-1] == 'value':\n",
    "            for company in params:\n",
    "                stock_search = Stock(company_dict[str(params[company])])\n",
    "                print(\"BOT : The value of {0} is {1}\".format(params[company], stock_search.get_financials()[0]['totalAssets']))\n",
    "        elif intent_dict[len(intent_dict)-1] == 'volume':\n",
    "            for company in params:\n",
    "                stock_search = Stock(company_dict[str(params[company])])\n",
    "                print(\"BOT : The volume of {0} is {1}\".format(params[company], stock_search.get_volume()))\n",
    "            params = {}\n",
    "    return params\n"
   ]
  },
  {
   "cell_type": "code",
   "execution_count": 10,
   "metadata": {},
   "outputs": [
    {
     "name": "stdout",
     "output_type": "stream",
     "text": [
      "USER : Hello\n",
      "BOT : Hi body! What can I do for you.\n",
      "USER : I would like to know the value of tesla and Apple.\n",
      "BOT : Wait please...\n",
      "BOT : The value of tesla is 29262713000\n",
      "BOT : The value of apple is 365725000000\n",
      "USER : I do not want anything about tesla now.\n",
      "BOT : Ok. It is not hard...\n",
      "BOT : The value of apple is 365725000000\n"
     ]
    }
   ],
   "source": [
    "#some experiment\n",
    "state = INIT\n",
    "params = {}\n",
    "intent_dict = []\n",
    "state, params = send_message('Hello', policy, state, params, intent_dict)\n",
    "state, params = send_message('I would like to know the value of tesla and Apple.', policy, state, params, intent_dict)\n",
    "state, params = send_message('I do not want anything about tesla now.', policy, state, params, intent_dict)\n",
    "#state, params = send_message('Hello', policy, state, params, intent_dict)\n",
    "#state, params = send_message('And what about the close price of microsoft and apple?', policy, state, params, intent_dict)\n",
    "#state, params = send_message(\"No apple now.\", policy, state, params, intent_dict)\n",
    "#state, params = send_message(\"How about the trading volume of tesla and microsoft\", policy, state, params, intent_dict)\n",
    "#state, params = send_message(\"do not show me tesla\", policy, state, params, intent_dict)"
   ]
  },
  {
   "cell_type": "code",
   "execution_count": null,
   "metadata": {},
   "outputs": [],
   "source": [
    "#building database\n",
    "import sqlite3\n",
    "\n",
    "conn = sqlite3.connect('stock.db')\n",
    "c = conn.cursor()\n",
    "c.execute('CREATE TABLE IF NOT EXISTS stock(name text, close double)')\n",
    "for i in range(len(result)):\n",
    "    c.execute('INSERT INTO stock(name, close) VALUES(?, ?)', (result[i]['company'], result[i]['close']))\n",
    "c.execute('commit')\n",
    "\n",
    "query = 'SELECT * FROM stock'\n",
    "c.execute(query)\n",
    "print(c.fetchall())"
   ]
  },
  {
   "cell_type": "code",
   "execution_count": null,
   "metadata": {},
   "outputs": [],
   "source": [
    "#logging in WeChart account\n",
    "from wxpy import *\n",
    "\n",
    "bot = Bot()"
   ]
  },
  {
   "cell_type": "code",
   "execution_count": null,
   "metadata": {},
   "outputs": [],
   "source": [
    "#searching a typical friend\n",
    "my_friend = bot.friends().search('牛')\n",
    "print(my_friend)"
   ]
  },
  {
   "cell_type": "code",
   "execution_count": null,
   "metadata": {},
   "outputs": [],
   "source": [
    "#call the function to get reply\n",
    "@bot.register(my_friend)\n",
    "def reply_my_friend(msg):\n",
    "    state, params = send_message(str(msg), policy, state, params, intent_dict))\n",
    "    return answer\n",
    "bot.join()"
   ]
  },
  {
   "cell_type": "code",
   "execution_count": null,
   "metadata": {},
   "outputs": [],
   "source": []
  }
 ],
 "metadata": {
  "kernelspec": {
   "display_name": "Python 3",
   "language": "python",
   "name": "python3"
  },
  "language_info": {
   "codemirror_mode": {
    "name": "ipython",
    "version": 3
   },
   "file_extension": ".py",
   "mimetype": "text/x-python",
   "name": "python",
   "nbconvert_exporter": "python",
   "pygments_lexer": "ipython3",
   "version": "3.6.5"
  }
 },
 "nbformat": 4,
 "nbformat_minor": 2
}
